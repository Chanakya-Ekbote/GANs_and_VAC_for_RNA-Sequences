{
 "cells": [
  {
   "cell_type": "markdown",
   "metadata": {},
   "source": [
    "#### Importing Libraries"
   ]
  },
  {
   "cell_type": "code",
   "execution_count": null,
   "metadata": {},
   "outputs": [],
   "source": [
    "import tensorflow as tf\n",
    "import pandas as pd\n",
    "import numpy as np\n",
    "import csv"
   ]
  },
  {
   "cell_type": "markdown",
   "metadata": {},
   "source": [
    "#### Importing Data"
   ]
  },
  {
   "cell_type": "code",
   "execution_count": null,
   "metadata": {},
   "outputs": [],
   "source": [
    "raw_data = open('data.csv', 'rt')\n",
    "reader = csv.reader(raw_data, delimiter=',', quoting=csv.QUOTE_NONE)\n",
    "data = list(reader)\n",
    "data = np.array(data)\n",
    "data = data[1:, 2:].astype(float)\n",
    "rows, columns = np.shape(data)\n",
    "sqrt_col = int(np.ceil(np.sqrt(columns)))\n",
    "processed_data = np.zeros([rows, 256, 256])\n",
    "data_ = np.zeros([rows, 256*256])\n",
    "\n",
    "for i in range(rows):\n",
    "    data[i] = (data[i] - np.mean(data[i]))/np.max(data[i])\n",
    "    data_[i] = np.append(data[i], np.zeros(256*256 - columns))\n",
    "\n",
    "    \n",
    "for i in range(rows):\n",
    "    for j in range(sqrt_col):\n",
    "            processed_data[i,j,:] = data_[i, j * 256 : (j+1)*256]\n",
    "\n",
    "raw_labels = open('labels.csv', 'rt')\n",
    "reader_l = csv.reader(raw_labels, delimiter=',', quoting=csv.QUOTE_NONE)\n",
    "labels = list(reader_l)\n",
    "labels = np.array(labels)\n",
    "labels = labels[1:, 1:]"
   ]
  },
  {
   "cell_type": "markdown",
   "metadata": {},
   "source": [
    "#### Preprocessing Labels"
   ]
  },
  {
   "cell_type": "code",
   "execution_count": null,
   "metadata": {},
   "outputs": [],
   "source": [
    "gene_labels = []\n",
    "numeric_labels = np.zeros(np.shape(labels))\n",
    "for i in range(np.shape(labels)[0]):\n",
    "    if labels[i][0] not in gene_labels:\n",
    "        gene_labels.append(labels[i][0])\n",
    "    numeric_labels[i][0] = gene_labels.index(labels[i][0])\n",
    "numeric_labels = numeric_labels.astype(float)\n",
    "print(np.shape(gene_labels))"
   ]
  },
  {
   "cell_type": "markdown",
   "metadata": {},
   "source": [
    "#### Variational Autoencoder"
   ]
  },
  {
   "cell_type": "code",
   "execution_count": null,
   "metadata": {},
   "outputs": [],
   "source": [
    "def sampling(params):\n",
    "    \n",
    "    mean, log_variance = params\n",
    "    batch = tf.keras.backend.shape(mean)[0]\n",
    "    x = tf.keras.backend.shape(mean)[1]\n",
    "    y = tf.keras.backend.shape(mean)[2]\n",
    "    z = tf.keras.backend.shape(mean)[3]\n",
    "    epsilon = tf.keras.backend.random_normal(shape=(batch, x,y,z))\n",
    "    \n",
    "    return mean + tf.keras.backend.exp(0.5 * log_variance) * epsilon\n",
    "    "
   ]
  },
  {
   "cell_type": "code",
   "execution_count": null,
   "metadata": {},
   "outputs": [],
   "source": [
    "# Defining the Input\n",
    "Input_1= tf.keras.layers.Input(shape=(256, 256, 1,))\n",
    "Input_2 = tf.keras.layers.Input(shape = (5,))\n",
    "\n",
    "# Autoencoder \n",
    "\n",
    "## Endoder\n",
    "enc_conv1 = tf.keras.layers.Conv2D(64, (10,10), activation='relu', input_shape=(256, 256, 1,),kernel_regularizer=tf.keras.regularizers.l2(2e-4), padding ='same' )(Input_1)\n",
    "enc_norm1 = tf.keras.layers.BatchNormalization()(enc_conv1)\n",
    "enc_max1 = tf.keras.layers.MaxPooling2D()(enc_norm1)\n",
    "enc_conv2 = tf.keras.layers.Conv2D(128, (7,7), activation='relu', kernel_regularizer=tf.keras.regularizers.l2(2e-4), padding ='same')(enc_max1)\n",
    "enc_norm2 = tf.keras.layers.BatchNormalization()(enc_conv2)\n",
    "enc_max2 = tf.keras.layers.MaxPooling2D()(enc_norm2)\n",
    "enc_conv3 = tf.keras.layers.Conv2D(128, (4,4), activation='relu', kernel_regularizer=tf.keras.regularizers.l2(2e-4), padding ='same')(enc_max2)\n",
    "enc_norm3 = tf.keras.layers.BatchNormalization()(enc_conv3)\n",
    "enc_max3 = tf.keras.layers.MaxPooling2D()(enc_norm3)\n",
    "enc_conv4 = tf.keras.layers.Conv2D(32, (4,4), activation='relu', kernel_regularizer=tf.keras.regularizers.l2(2e-4), padding ='same')(enc_max3)\n",
    "enc_norm4 = tf.keras.layers.BatchNormalization()(enc_conv4)\n",
    "\n",
    "## Encoded Conv-Layer\n",
    "latent_conv = tf.keras.layers.Conv2D(32, (4,4), activation='relu', kernel_regularizer=tf.keras.regularizers.l2(2e-4), padding ='same')(enc_conv4)\n",
    "mean = tf.keras.layers.Conv2D(32, (4,4), activation='relu', kernel_regularizer=tf.keras.regularizers.l2(2e-4), padding ='same')(latent_conv)\n",
    "log_variance = tf.keras.layers.Conv2D(32, (4,4), activation='relu', kernel_regularizer=tf.keras.regularizers.l2(2e-4), padding ='same')(latent_conv)\n",
    "\n",
    "##Sampled\n",
    "sampled = tf.keras.layers.Lambda(sampling, output_shape=(32,32,32,), name='sampled')([mean, log_variance])\n",
    "\n",
    "## Decoder \n",
    "dec_conv1 = tf.keras.layers.Conv2D(32, (4,4), activation='relu', kernel_regularizer=tf.keras.regularizers.l2(2e-4), padding ='same')(sampled)\n",
    "dec_norm1 = tf.keras.layers.BatchNormalization()(dec_conv1)\n",
    "dec_upsamp1 = tf.keras.layers.UpSampling2D()(dec_norm1)\n",
    "dec_conv2 = tf.keras.layers.Conv2D(128, (4,4), activation='relu', kernel_regularizer=tf.keras.regularizers.l2(2e-4), padding ='same')(dec_upsamp1)\n",
    "dec_norm2 = tf.keras.layers.BatchNormalization()(dec_conv2)\n",
    "dec_upsamp2 = tf.keras.layers.UpSampling2D()(dec_norm2)\n",
    "dec_conv3 = tf.keras.layers.Conv2D(128, (7,7), activation='relu', kernel_regularizer=tf.keras.regularizers.l2(2e-4), padding ='same')(dec_upsamp2)\n",
    "dec_norm3 = tf.keras.layers.BatchNormalization()(dec_conv3)\n",
    "dec_upsamp3 = tf.keras.layers.UpSampling2D()(dec_norm3)\n",
    "dec_conv4 = tf.keras.layers.Conv2D(64, (10,10), activation='relu', kernel_regularizer=tf.keras.regularizers.l2(2e-4), padding ='same')(dec_upsamp3)\n",
    "dec_norm4 = tf.keras.layers.BatchNormalization()(dec_conv4)\n",
    "\n",
    "### Output Autoencoder\n",
    "variac_output = tf.keras.layers.Conv2D(1, (10,10), activation='tanh', kernel_regularizer=tf.keras.regularizers.l2(2e-4), padding ='same')(dec_norm4)\n",
    "\n",
    "### Classifier\n",
    "flatten = tf.keras.layers.Flatten()(sampled)\n",
    "classifier = tf.keras.layers.Dense(1024, activation = 'relu', kernel_regularizer=tf.keras.regularizers.l2(2e-4))(flatten)\n",
    "classifier = tf.keras.layers.Dense(32, activation = 'relu', kernel_regularizer=tf.keras.regularizers.l2(2e-4))(classifier)\n",
    "classifier_output = tf.keras.layers.Dense(5, activation='softmax')(classifier)\n",
    "\n",
    "# Compiling the Model\n",
    "vae = tf.keras.models.Model(inputs=[Input_1, Input_2], outputs = [variac_output, classifier_output])\n",
    "\n",
    "reconstruction_loss = tf.keras.backend.sum(tf.keras.losses.mse(vae.inputs[0], vae.outputs[0]))\n",
    "classifier_loss = tf.keras.backend.sum(tf.keras.losses.categorical_crossentropy(vae.inputs[1], vae.outputs[1]))\n",
    "kl_loss = 1 + log_variance - tf.keras.backend.square(mean) - tf.keras.backend.exp(log_variance)\n",
    "kl_loss = tf.keras.backend.sum(kl_loss)\n",
    "\n",
    "loss =  reconstruction_loss + classifier_loss - kl_loss\n",
    "\n",
    "vae.add_loss(loss)\n",
    "vae.compile(optimizer='adam')"
   ]
  },
  {
   "cell_type": "code",
   "execution_count": null,
   "metadata": {},
   "outputs": [],
   "source": [
    "vae.summary()"
   ]
  },
  {
   "cell_type": "markdown",
   "metadata": {},
   "source": [
    "#### Training"
   ]
  },
  {
   "cell_type": "code",
   "execution_count": null,
   "metadata": {},
   "outputs": [],
   "source": [
    "# Data Training\n",
    "X_train = processed_data\n",
    "X_train = np.expand_dims(processed_data, axis = 3)\n",
    "X_labels = tf.keras.utils.to_categorical(numeric_labels)\n",
    "\n",
    "# Training \n",
    "vae.fit([X_train, X_labels], epochs = 10, batch_size = 50)\n"
   ]
  }
 ],
 "metadata": {
  "kernelspec": {
   "display_name": "Python 3",
   "language": "python",
   "name": "python3"
  },
  "language_info": {
   "codemirror_mode": {
    "name": "ipython",
    "version": 3
   },
   "file_extension": ".py",
   "mimetype": "text/x-python",
   "name": "python",
   "nbconvert_exporter": "python",
   "pygments_lexer": "ipython3",
   "version": "3.6.2"
  }
 },
 "nbformat": 4,
 "nbformat_minor": 1
}
