{
 "cells": [
  {
   "cell_type": "markdown",
   "metadata": {},
   "source": [
    "#### Importing Libraries"
   ]
  },
  {
   "cell_type": "code",
   "execution_count": null,
   "metadata": {},
   "outputs": [],
   "source": [
    "import tensorflow as tf\n",
    "import pandas as pd\n",
    "import numpy as np\n",
    "import csv"
   ]
  },
  {
   "cell_type": "markdown",
   "metadata": {},
   "source": [
    "#### Importing Data"
   ]
  },
  {
   "cell_type": "code",
   "execution_count": null,
   "metadata": {},
   "outputs": [],
   "source": [
    "raw_data = open('data.csv', 'rt')\n",
    "reader = csv.reader(raw_data, delimiter=',', quoting=csv.QUOTE_NONE)\n",
    "data = list(reader)\n",
    "data = np.array(data)\n",
    "data = data[1:, 2:].astype(float)"
   ]
  },
  {
   "cell_type": "markdown",
   "metadata": {},
   "source": [
    "#### Data Processing \n",
    "- Sequences are made into a square image of closest binary number to the the ceiling of the root of the length"
   ]
  },
  {
   "cell_type": "code",
   "execution_count": null,
   "metadata": {},
   "outputs": [],
   "source": [
    "rows, columns = np.shape(data)\n",
    "sqrt_col = int(np.ceil(np.sqrt(columns)))\n",
    "processed_data = np.zeros([rows, 256, 256])\n",
    "data_ = np.zeros([rows, 256*256])\n",
    "\n",
    "for i in range(rows):\n",
    "    data[i] = (data[i] - np.mean(data[i]))/np.max(data[i])\n",
    "    data_[i] = np.append(data[i], np.zeros(256*256 - columns))\n",
    "\n",
    "    \n",
    "for i in range(rows):\n",
    "    for j in range(sqrt_col):\n",
    "            processed_data[i,j,:] = data_[i, j * 256 : (j+1)*256]"
   ]
  },
  {
   "cell_type": "markdown",
   "metadata": {},
   "source": [
    "#### Generator"
   ]
  },
  {
   "cell_type": "code",
   "execution_count": null,
   "metadata": {},
   "outputs": [],
   "source": [
    "def gen_model(input_shape):\n",
    "    \n",
    "    Input_1= tf.keras.layers.Input(shape = input_shape)\n",
    "    \n",
    "    model = tf.keras.layers.Conv2D(256, (10,10), activation='relu', input_shape=input_shape,kernel_regularizer=tf.keras.regularizers.l2(2e-4), padding ='same')(Input_1)\n",
    "    model = tf.keras.layers.BatchNormalization()(model)\n",
    "    \n",
    "    model = tf.keras.layers.Conv2D(128, (10,10), activation='relu', input_shape=input_shape,kernel_regularizer=tf.keras.regularizers.l2(2e-4), padding ='same')(model)\n",
    "    model = tf.keras.layers.BatchNormalization()(model)\n",
    "    \n",
    "    model = tf.keras.layers.Conv2D(128, (7,7), activation='relu', input_shape=input_shape,kernel_regularizer=tf.keras.regularizers.l2(2e-4), padding ='same')(model)\n",
    "    model = tf.keras.layers.BatchNormalization()(model)\n",
    "    \n",
    "    model = tf.keras.layers.Conv2D(128, (5,5), activation='relu', input_shape=input_shape,kernel_regularizer=tf.keras.regularizers.l2(2e-4), padding ='same')(model)\n",
    "    model = tf.keras.layers.BatchNormalization()(model)\n",
    "    \n",
    "    model = tf.keras.layers.Conv2D(1, (5,5), activation='tanh', input_shape=input_shape,kernel_regularizer=tf.keras.regularizers.l2(2e-4), padding ='same')(model)\n",
    "    output = tf.keras.layers.BatchNormalization()(model)\n",
    "    \n",
    "    model = tf.keras.models.Model(inputs=Input_1, outputs = output, name = 'generator')\n",
    "    \n",
    "    return model"
   ]
  },
  {
   "cell_type": "code",
   "execution_count": null,
   "metadata": {},
   "outputs": [],
   "source": [
    "gen = gen_model((256,256,1))"
   ]
  },
  {
   "cell_type": "code",
   "execution_count": null,
   "metadata": {},
   "outputs": [],
   "source": [
    "gen.summary()"
   ]
  },
  {
   "cell_type": "markdown",
   "metadata": {},
   "source": [
    "#### Discriminator\n"
   ]
  },
  {
   "cell_type": "code",
   "execution_count": null,
   "metadata": {},
   "outputs": [],
   "source": [
    "def discrim_model(input_shape):\n",
    "    \n",
    "    Input_1= tf.keras.layers.Input(shape = input_shape)\n",
    "    \n",
    "    model = tf.keras.layers.Conv2D(256, (10,10), activation='relu', input_shape=input_shape,kernel_regularizer=tf.keras.regularizers.l2(2e-4), padding ='same')(Input_1)\n",
    "    model = tf.keras.layers.BatchNormalization()(model)\n",
    "    model = tf.keras.layers.MaxPool2D()(model)\n",
    "    \n",
    "    model = tf.keras.layers.Conv2D(128, (10,10), activation='relu', input_shape=input_shape,kernel_regularizer=tf.keras.regularizers.l2(2e-4), padding ='same')(model)\n",
    "    model = tf.keras.layers.BatchNormalization()(model)\n",
    "    model = tf.keras.layers.MaxPool2D()(model)\n",
    "    \n",
    "    model = tf.keras.layers.Conv2D(128, (7,7), activation='relu', input_shape=input_shape,kernel_regularizer=tf.keras.regularizers.l2(2e-4), padding ='same')(model)\n",
    "    model = tf.keras.layers.BatchNormalization()(model)\n",
    "    model = tf.keras.layers.MaxPool2D()(model)\n",
    "    \n",
    "    model = tf.keras.layers.Conv2D(128, (5,5), activation='relu', input_shape=input_shape,kernel_regularizer=tf.keras.regularizers.l2(2e-4), padding ='same')(model)\n",
    "    model = tf.keras.layers.BatchNormalization()(model)\n",
    "    model = tf.keras.layers.MaxPool2D()(model)\n",
    "    \n",
    "    model = tf.keras.layers.Conv2D(64, (3,3), activation='tanh', input_shape=input_shape,kernel_regularizer=tf.keras.regularizers.l2(2e-4), padding ='same')(model)\n",
    "    model = tf.keras.layers.BatchNormalization()(model)\n",
    "    model = tf.keras.layers.MaxPool2D()(model)\n",
    "    model = tf.keras.layers.Flatten()(model)\n",
    "    \n",
    "    output = tf.keras.layers.Dense(1, activation = 'sigmoid')(model)\n",
    "    \n",
    "    model = tf.keras.models.Model(inputs=Input_1, outputs = output, name = 'discriminator')\n",
    "    \n",
    "    return model"
   ]
  },
  {
   "cell_type": "code",
   "execution_count": null,
   "metadata": {},
   "outputs": [],
   "source": [
    "discrim = discrim_model((256,256,1))"
   ]
  },
  {
   "cell_type": "code",
   "execution_count": null,
   "metadata": {},
   "outputs": [],
   "source": [
    "discrim.summary()"
   ]
  },
  {
   "cell_type": "markdown",
   "metadata": {},
   "source": [
    "#### Creating the Entire Network"
   ]
  },
  {
   "cell_type": "code",
   "execution_count": null,
   "metadata": {},
   "outputs": [],
   "source": [
    "# Discriminator\n",
    "optimizer = tf.keras.optimizers.Adam(0.0002, 0.5)\n",
    "discriminator = discrim_model((256, 256, 1))\n",
    "discriminator.compile(loss='binary_crossentropy',optimizer=optimizer,metrics=['accuracy'])"
   ]
  },
  {
   "cell_type": "code",
   "execution_count": null,
   "metadata": {},
   "outputs": [],
   "source": [
    "# Generator\n",
    "generator = gen_model((256,256,1))"
   ]
  },
  {
   "cell_type": "code",
   "execution_count": null,
   "metadata": {},
   "outputs": [],
   "source": [
    "# Combined Network\n",
    "inp = tf.keras.Input((256, 256,1))\n",
    "gen = generator(inp)\n",
    "discriminator.trainable = False\n",
    "discrim = discriminator(gen)\n",
    "gan = tf.keras.Model(inp, discrim)\n",
    "gan.compile(loss='binary_crossentropy', optimizer=optimizer)"
   ]
  },
  {
   "cell_type": "code",
   "execution_count": null,
   "metadata": {},
   "outputs": [],
   "source": [
    "# Summary\n",
    "gan.summary()"
   ]
  },
  {
   "cell_type": "markdown",
   "metadata": {},
   "source": [
    "#### Training"
   ]
  },
  {
   "cell_type": "code",
   "execution_count": null,
   "metadata": {},
   "outputs": [],
   "source": [
    "# Training Parameters\n",
    "batch_size = 50\n",
    "iterations = 100\n",
    "\n",
    "# Training Data\n",
    "X_train = np.expand_dims(processed_data, axis = 3)\n",
    "\n",
    "# Labels\n",
    "true_label = np.ones((batch_size, 1))\n",
    "fake_label = np.zeros((batch_size, 1))\n",
    "\n",
    "# Training\n",
    "for epoch in range(iterations):\n",
    "    \n",
    "    # Random sample of data\n",
    "    random_indices = np.random.randint(0, X_train.shape[0], batch_size)\n",
    "    discrim_data = X_train[random_indices]\n",
    "    \n",
    "    # Training the discriminator\n",
    "    gaussian = np.random.normal(0, 1, (batch_size, X_train.shape[1], X_train.shape[2], 1))\n",
    "    discrim_loss_real = discriminator.train_on_batch(discrim_data, true_label)\n",
    "    generated_data = generator.predict(gaussian)\n",
    "    discriminator_loss_real = self.discriminator.train_on_batch(discrim_data, true_label)\n",
    "    discriminator_loss_fake = self.discriminator.train_on_batch(generated_data, fake_label)\n",
    "    discriminator_loss_total = 0.5 * np.add(discrim_loss_real, discriminator_loss_fake)\n",
    "    \n",
    "    # Training the gan\n",
    "    gan.train_on_batch(gaussian, true_label)\n",
    "    \n",
    "    print (\"%d [D loss: %f, acc.: %.2f%%] [G loss: %f]\" % (epoch, discriminator_loss_real, discriminator_loss_fake, g_loss))"
   ]
  }
 ],
 "metadata": {
  "kernelspec": {
   "display_name": "Python 3",
   "language": "python",
   "name": "python3"
  },
  "language_info": {
   "codemirror_mode": {
    "name": "ipython",
    "version": 3
   },
   "file_extension": ".py",
   "mimetype": "text/x-python",
   "name": "python",
   "nbconvert_exporter": "python",
   "pygments_lexer": "ipython3",
   "version": "3.6.2"
  }
 },
 "nbformat": 4,
 "nbformat_minor": 1
}
